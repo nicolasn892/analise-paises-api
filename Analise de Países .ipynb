{
  "nbformat": 4,
  "nbformat_minor": 0,
  "metadata": {
    "colab": {
      "provenance": [],
      "authorship_tag": "ABX9TyMq/B3lUGGfeKgOcWWNoND3",
      "include_colab_link": true
    },
    "kernelspec": {
      "name": "python3",
      "display_name": "Python 3"
    },
    "language_info": {
      "name": "python"
    }
  },
  "cells": [
    {
      "cell_type": "markdown",
      "metadata": {
        "id": "view-in-github",
        "colab_type": "text"
      },
      "source": [
        "<a href=\"https://colab.research.google.com/github/nicolasn892/analise-paises-api/blob/main/Analise%20de%20Pa%C3%ADses%20.ipynb\" target=\"_parent\"><img src=\"https://colab.research.google.com/assets/colab-badge.svg\" alt=\"Open In Colab\"/></a>"
      ]
    },
    {
      "cell_type": "markdown",
      "source": [
        "Importando as bibliotecas necessárias"
      ],
      "metadata": {
        "id": "izCR5RzNNKaN"
      }
    },
    {
      "cell_type": "code",
      "execution_count": null,
      "metadata": {
        "id": "goxPtMFHNFni"
      },
      "outputs": [],
      "source": [
        "import requests\n",
        "import pandas as pd\n",
        "import matplotlib.pyplot as plt\n"
      ]
    },
    {
      "cell_type": "markdown",
      "source": [
        "Consumindo a API que traz os dados dos países"
      ],
      "metadata": {
        "id": "SX0uvfVVNRFV"
      }
    },
    {
      "cell_type": "code",
      "source": [
        "# Adicione o parâmetro 'fields' na URL para evitar o erro 400\n",
        "url = \"https://restcountries.com/v3.1/all?fields=name,population,area,region,subregion,capital,currencies,languages\"\n",
        "response = requests.get(url)\n",
        "\n",
        "if response.status_code == 200:\n",
        "    countries = response.json()\n",
        "    # Extração robusta dos dados\n",
        "    dados = []\n",
        "    for pais in countries:\n",
        "        nome = pais.get('name', {}).get('common')\n",
        "        populacao = pais.get('population')\n",
        "        area = pais.get('area')\n",
        "        regiao = pais.get('region')\n",
        "        subregiao = pais.get('subregion')\n",
        "        capital = pais.get('capital', [None])[0] if pais.get('capital') else None\n",
        "        moeda = None\n",
        "        if 'currencies' in pais and pais['currencies']:\n",
        "            moeda = list(pais['currencies'].values())[0].get('name')\n",
        "        idiomas = None\n",
        "        if 'languages' in pais and pais['languages']:\n",
        "            idiomas = ', '.join(pais['languages'].values())\n",
        "        dados.append({\n",
        "            'nome': nome,\n",
        "            'populacao': populacao,\n",
        "            'area': area,\n",
        "            'regiao': regiao,\n",
        "            'subregiao': subregiao,\n",
        "            'capital': capital,\n",
        "            'moeda': moeda,\n",
        "            'idiomas': idiomas\n",
        "        })\n",
        "    df = pd.DataFrame(dados)\n",
        "    print(df.head())\n",
        "else:\n",
        "    print(f\"Erro na API: {response.status_code}\")"
      ],
      "metadata": {
        "colab": {
          "base_uri": "https://localhost:8080/"
        },
        "id": "gIiyUJ63NHSu",
        "outputId": "4f5fcbfd-633a-4cff-8a44-0cc664e2168f"
      },
      "execution_count": null,
      "outputs": [
        {
          "output_type": "stream",
          "name": "stdout",
          "text": [
            "         nome  populacao      area   regiao       subregiao    capital  \\\n",
            "0        Togo    8278737   56785.0   Africa  Western Africa       Lomé   \n",
            "1     Mayotte     226915     374.0   Africa  Eastern Africa  Mamoudzou   \n",
            "2     Georgia    3714000   69700.0     Asia    Western Asia    Tbilisi   \n",
            "3     Vanuatu     307150   12189.0  Oceania       Melanesia  Port Vila   \n",
            "4  Kyrgyzstan    6591600  199951.0     Asia    Central Asia    Bishkek   \n",
            "\n",
            "                    moeda                   idiomas  \n",
            "0  West African CFA franc                    French  \n",
            "1                    Euro                    French  \n",
            "2                    lari                  Georgian  \n",
            "3            Vanuatu vatu  Bislama, English, French  \n",
            "4         Kyrgyzstani som           Kyrgyz, Russian  \n"
          ]
        }
      ]
    },
    {
      "cell_type": "markdown",
      "source": [
        "Montando um DataFrame com as informações mais relevantes"
      ],
      "metadata": {
        "id": "xZHHUW3DNQTN"
      }
    },
    {
      "cell_type": "code",
      "source": [
        "dados = []\n",
        "for pais in countries:\n",
        "    # Trata o campo 'capital' de forma segura\n",
        "    if 'capital' in pais and isinstance(pais['capital'], list) and len(pais['capital']) > 0:\n",
        "        capital = pais['capital'][0]\n",
        "    else:\n",
        "        capital = None\n",
        "    # Monta o dicionário de dados\n",
        "    dados.append({\n",
        "        'nome': pais.get('name', {}).get('common'),\n",
        "        'populacao': pais.get('population'),\n",
        "        'area': pais.get('area'),\n",
        "        'regiao': pais.get('region'),\n",
        "        'subregiao': pais.get('subregion'),\n",
        "        'capital': capital,\n",
        "        'moeda': list(pais.get('currencies', {}).keys())[0] if pais.get('currencies') else None,\n",
        "        'idiomas': ', '.join(list(pais.get('languages', {}).values())) if pais.get('languages') else None\n",
        "    })\n",
        "\n",
        "import pandas as pd\n",
        "df = pd.DataFrame(dados)\n",
        "df.head()\n",
        "\n"
      ],
      "metadata": {
        "colab": {
          "base_uri": "https://localhost:8080/",
          "height": 206
        },
        "id": "v_eM6434NeD1",
        "outputId": "734e3a5d-06de-4673-e222-136d277df210"
      },
      "execution_count": null,
      "outputs": [
        {
          "output_type": "execute_result",
          "data": {
            "text/plain": [
              "         nome  populacao      area   regiao       subregiao    capital moeda  \\\n",
              "0        Togo    8278737   56785.0   Africa  Western Africa       Lomé   XOF   \n",
              "1     Mayotte     226915     374.0   Africa  Eastern Africa  Mamoudzou   EUR   \n",
              "2     Georgia    3714000   69700.0     Asia    Western Asia    Tbilisi   GEL   \n",
              "3     Vanuatu     307150   12189.0  Oceania       Melanesia  Port Vila   VUV   \n",
              "4  Kyrgyzstan    6591600  199951.0     Asia    Central Asia    Bishkek   KGS   \n",
              "\n",
              "                    idiomas  \n",
              "0                    French  \n",
              "1                    French  \n",
              "2                  Georgian  \n",
              "3  Bislama, English, French  \n",
              "4           Kyrgyz, Russian  "
            ],
            "text/html": [
              "\n",
              "  <div id=\"df-8cb2e4f6-a436-4ee2-9bba-32689a339689\" class=\"colab-df-container\">\n",
              "    <div>\n",
              "<style scoped>\n",
              "    .dataframe tbody tr th:only-of-type {\n",
              "        vertical-align: middle;\n",
              "    }\n",
              "\n",
              "    .dataframe tbody tr th {\n",
              "        vertical-align: top;\n",
              "    }\n",
              "\n",
              "    .dataframe thead th {\n",
              "        text-align: right;\n",
              "    }\n",
              "</style>\n",
              "<table border=\"1\" class=\"dataframe\">\n",
              "  <thead>\n",
              "    <tr style=\"text-align: right;\">\n",
              "      <th></th>\n",
              "      <th>nome</th>\n",
              "      <th>populacao</th>\n",
              "      <th>area</th>\n",
              "      <th>regiao</th>\n",
              "      <th>subregiao</th>\n",
              "      <th>capital</th>\n",
              "      <th>moeda</th>\n",
              "      <th>idiomas</th>\n",
              "    </tr>\n",
              "  </thead>\n",
              "  <tbody>\n",
              "    <tr>\n",
              "      <th>0</th>\n",
              "      <td>Togo</td>\n",
              "      <td>8278737</td>\n",
              "      <td>56785.0</td>\n",
              "      <td>Africa</td>\n",
              "      <td>Western Africa</td>\n",
              "      <td>Lomé</td>\n",
              "      <td>XOF</td>\n",
              "      <td>French</td>\n",
              "    </tr>\n",
              "    <tr>\n",
              "      <th>1</th>\n",
              "      <td>Mayotte</td>\n",
              "      <td>226915</td>\n",
              "      <td>374.0</td>\n",
              "      <td>Africa</td>\n",
              "      <td>Eastern Africa</td>\n",
              "      <td>Mamoudzou</td>\n",
              "      <td>EUR</td>\n",
              "      <td>French</td>\n",
              "    </tr>\n",
              "    <tr>\n",
              "      <th>2</th>\n",
              "      <td>Georgia</td>\n",
              "      <td>3714000</td>\n",
              "      <td>69700.0</td>\n",
              "      <td>Asia</td>\n",
              "      <td>Western Asia</td>\n",
              "      <td>Tbilisi</td>\n",
              "      <td>GEL</td>\n",
              "      <td>Georgian</td>\n",
              "    </tr>\n",
              "    <tr>\n",
              "      <th>3</th>\n",
              "      <td>Vanuatu</td>\n",
              "      <td>307150</td>\n",
              "      <td>12189.0</td>\n",
              "      <td>Oceania</td>\n",
              "      <td>Melanesia</td>\n",
              "      <td>Port Vila</td>\n",
              "      <td>VUV</td>\n",
              "      <td>Bislama, English, French</td>\n",
              "    </tr>\n",
              "    <tr>\n",
              "      <th>4</th>\n",
              "      <td>Kyrgyzstan</td>\n",
              "      <td>6591600</td>\n",
              "      <td>199951.0</td>\n",
              "      <td>Asia</td>\n",
              "      <td>Central Asia</td>\n",
              "      <td>Bishkek</td>\n",
              "      <td>KGS</td>\n",
              "      <td>Kyrgyz, Russian</td>\n",
              "    </tr>\n",
              "  </tbody>\n",
              "</table>\n",
              "</div>\n",
              "    <div class=\"colab-df-buttons\">\n",
              "\n",
              "  <div class=\"colab-df-container\">\n",
              "    <button class=\"colab-df-convert\" onclick=\"convertToInteractive('df-8cb2e4f6-a436-4ee2-9bba-32689a339689')\"\n",
              "            title=\"Convert this dataframe to an interactive table.\"\n",
              "            style=\"display:none;\">\n",
              "\n",
              "  <svg xmlns=\"http://www.w3.org/2000/svg\" height=\"24px\" viewBox=\"0 -960 960 960\">\n",
              "    <path d=\"M120-120v-720h720v720H120Zm60-500h600v-160H180v160Zm220 220h160v-160H400v160Zm0 220h160v-160H400v160ZM180-400h160v-160H180v160Zm440 0h160v-160H620v160ZM180-180h160v-160H180v160Zm440 0h160v-160H620v160Z\"/>\n",
              "  </svg>\n",
              "    </button>\n",
              "\n",
              "  <style>\n",
              "    .colab-df-container {\n",
              "      display:flex;\n",
              "      gap: 12px;\n",
              "    }\n",
              "\n",
              "    .colab-df-convert {\n",
              "      background-color: #E8F0FE;\n",
              "      border: none;\n",
              "      border-radius: 50%;\n",
              "      cursor: pointer;\n",
              "      display: none;\n",
              "      fill: #1967D2;\n",
              "      height: 32px;\n",
              "      padding: 0 0 0 0;\n",
              "      width: 32px;\n",
              "    }\n",
              "\n",
              "    .colab-df-convert:hover {\n",
              "      background-color: #E2EBFA;\n",
              "      box-shadow: 0px 1px 2px rgba(60, 64, 67, 0.3), 0px 1px 3px 1px rgba(60, 64, 67, 0.15);\n",
              "      fill: #174EA6;\n",
              "    }\n",
              "\n",
              "    .colab-df-buttons div {\n",
              "      margin-bottom: 4px;\n",
              "    }\n",
              "\n",
              "    [theme=dark] .colab-df-convert {\n",
              "      background-color: #3B4455;\n",
              "      fill: #D2E3FC;\n",
              "    }\n",
              "\n",
              "    [theme=dark] .colab-df-convert:hover {\n",
              "      background-color: #434B5C;\n",
              "      box-shadow: 0px 1px 3px 1px rgba(0, 0, 0, 0.15);\n",
              "      filter: drop-shadow(0px 1px 2px rgba(0, 0, 0, 0.3));\n",
              "      fill: #FFFFFF;\n",
              "    }\n",
              "  </style>\n",
              "\n",
              "    <script>\n",
              "      const buttonEl =\n",
              "        document.querySelector('#df-8cb2e4f6-a436-4ee2-9bba-32689a339689 button.colab-df-convert');\n",
              "      buttonEl.style.display =\n",
              "        google.colab.kernel.accessAllowed ? 'block' : 'none';\n",
              "\n",
              "      async function convertToInteractive(key) {\n",
              "        const element = document.querySelector('#df-8cb2e4f6-a436-4ee2-9bba-32689a339689');\n",
              "        const dataTable =\n",
              "          await google.colab.kernel.invokeFunction('convertToInteractive',\n",
              "                                                    [key], {});\n",
              "        if (!dataTable) return;\n",
              "\n",
              "        const docLinkHtml = 'Like what you see? Visit the ' +\n",
              "          '<a target=\"_blank\" href=https://colab.research.google.com/notebooks/data_table.ipynb>data table notebook</a>'\n",
              "          + ' to learn more about interactive tables.';\n",
              "        element.innerHTML = '';\n",
              "        dataTable['output_type'] = 'display_data';\n",
              "        await google.colab.output.renderOutput(dataTable, element);\n",
              "        const docLink = document.createElement('div');\n",
              "        docLink.innerHTML = docLinkHtml;\n",
              "        element.appendChild(docLink);\n",
              "      }\n",
              "    </script>\n",
              "  </div>\n",
              "\n",
              "\n",
              "    <div id=\"df-88d72c7d-6dfe-4d9f-899b-b4cf2f99b919\">\n",
              "      <button class=\"colab-df-quickchart\" onclick=\"quickchart('df-88d72c7d-6dfe-4d9f-899b-b4cf2f99b919')\"\n",
              "                title=\"Suggest charts\"\n",
              "                style=\"display:none;\">\n",
              "\n",
              "<svg xmlns=\"http://www.w3.org/2000/svg\" height=\"24px\"viewBox=\"0 0 24 24\"\n",
              "     width=\"24px\">\n",
              "    <g>\n",
              "        <path d=\"M19 3H5c-1.1 0-2 .9-2 2v14c0 1.1.9 2 2 2h14c1.1 0 2-.9 2-2V5c0-1.1-.9-2-2-2zM9 17H7v-7h2v7zm4 0h-2V7h2v10zm4 0h-2v-4h2v4z\"/>\n",
              "    </g>\n",
              "</svg>\n",
              "      </button>\n",
              "\n",
              "<style>\n",
              "  .colab-df-quickchart {\n",
              "      --bg-color: #E8F0FE;\n",
              "      --fill-color: #1967D2;\n",
              "      --hover-bg-color: #E2EBFA;\n",
              "      --hover-fill-color: #174EA6;\n",
              "      --disabled-fill-color: #AAA;\n",
              "      --disabled-bg-color: #DDD;\n",
              "  }\n",
              "\n",
              "  [theme=dark] .colab-df-quickchart {\n",
              "      --bg-color: #3B4455;\n",
              "      --fill-color: #D2E3FC;\n",
              "      --hover-bg-color: #434B5C;\n",
              "      --hover-fill-color: #FFFFFF;\n",
              "      --disabled-bg-color: #3B4455;\n",
              "      --disabled-fill-color: #666;\n",
              "  }\n",
              "\n",
              "  .colab-df-quickchart {\n",
              "    background-color: var(--bg-color);\n",
              "    border: none;\n",
              "    border-radius: 50%;\n",
              "    cursor: pointer;\n",
              "    display: none;\n",
              "    fill: var(--fill-color);\n",
              "    height: 32px;\n",
              "    padding: 0;\n",
              "    width: 32px;\n",
              "  }\n",
              "\n",
              "  .colab-df-quickchart:hover {\n",
              "    background-color: var(--hover-bg-color);\n",
              "    box-shadow: 0 1px 2px rgba(60, 64, 67, 0.3), 0 1px 3px 1px rgba(60, 64, 67, 0.15);\n",
              "    fill: var(--button-hover-fill-color);\n",
              "  }\n",
              "\n",
              "  .colab-df-quickchart-complete:disabled,\n",
              "  .colab-df-quickchart-complete:disabled:hover {\n",
              "    background-color: var(--disabled-bg-color);\n",
              "    fill: var(--disabled-fill-color);\n",
              "    box-shadow: none;\n",
              "  }\n",
              "\n",
              "  .colab-df-spinner {\n",
              "    border: 2px solid var(--fill-color);\n",
              "    border-color: transparent;\n",
              "    border-bottom-color: var(--fill-color);\n",
              "    animation:\n",
              "      spin 1s steps(1) infinite;\n",
              "  }\n",
              "\n",
              "  @keyframes spin {\n",
              "    0% {\n",
              "      border-color: transparent;\n",
              "      border-bottom-color: var(--fill-color);\n",
              "      border-left-color: var(--fill-color);\n",
              "    }\n",
              "    20% {\n",
              "      border-color: transparent;\n",
              "      border-left-color: var(--fill-color);\n",
              "      border-top-color: var(--fill-color);\n",
              "    }\n",
              "    30% {\n",
              "      border-color: transparent;\n",
              "      border-left-color: var(--fill-color);\n",
              "      border-top-color: var(--fill-color);\n",
              "      border-right-color: var(--fill-color);\n",
              "    }\n",
              "    40% {\n",
              "      border-color: transparent;\n",
              "      border-right-color: var(--fill-color);\n",
              "      border-top-color: var(--fill-color);\n",
              "    }\n",
              "    60% {\n",
              "      border-color: transparent;\n",
              "      border-right-color: var(--fill-color);\n",
              "    }\n",
              "    80% {\n",
              "      border-color: transparent;\n",
              "      border-right-color: var(--fill-color);\n",
              "      border-bottom-color: var(--fill-color);\n",
              "    }\n",
              "    90% {\n",
              "      border-color: transparent;\n",
              "      border-bottom-color: var(--fill-color);\n",
              "    }\n",
              "  }\n",
              "</style>\n",
              "\n",
              "      <script>\n",
              "        async function quickchart(key) {\n",
              "          const quickchartButtonEl =\n",
              "            document.querySelector('#' + key + ' button');\n",
              "          quickchartButtonEl.disabled = true;  // To prevent multiple clicks.\n",
              "          quickchartButtonEl.classList.add('colab-df-spinner');\n",
              "          try {\n",
              "            const charts = await google.colab.kernel.invokeFunction(\n",
              "                'suggestCharts', [key], {});\n",
              "          } catch (error) {\n",
              "            console.error('Error during call to suggestCharts:', error);\n",
              "          }\n",
              "          quickchartButtonEl.classList.remove('colab-df-spinner');\n",
              "          quickchartButtonEl.classList.add('colab-df-quickchart-complete');\n",
              "        }\n",
              "        (() => {\n",
              "          let quickchartButtonEl =\n",
              "            document.querySelector('#df-88d72c7d-6dfe-4d9f-899b-b4cf2f99b919 button');\n",
              "          quickchartButtonEl.style.display =\n",
              "            google.colab.kernel.accessAllowed ? 'block' : 'none';\n",
              "        })();\n",
              "      </script>\n",
              "    </div>\n",
              "\n",
              "    </div>\n",
              "  </div>\n"
            ],
            "application/vnd.google.colaboratory.intrinsic+json": {
              "type": "dataframe",
              "variable_name": "df",
              "summary": "{\n  \"name\": \"df\",\n  \"rows\": 250,\n  \"fields\": [\n    {\n      \"column\": \"nome\",\n      \"properties\": {\n        \"dtype\": \"string\",\n        \"num_unique_values\": 250,\n        \"samples\": [\n          \"Seychelles\",\n          \"China\",\n          \"Iceland\"\n        ],\n        \"semantic_type\": \"\",\n        \"description\": \"\"\n      }\n    },\n    {\n      \"column\": \"populacao\",\n      \"properties\": {\n        \"dtype\": \"number\",\n        \"std\": 129667321,\n        \"min\": 0,\n        \"max\": 1402112000,\n        \"num_unique_values\": 248,\n        \"samples\": [\n          2416664,\n          1402112000,\n          2563\n        ],\n        \"semantic_type\": \"\",\n        \"description\": \"\"\n      }\n    },\n    {\n      \"column\": \"area\",\n      \"properties\": {\n        \"dtype\": \"number\",\n        \"std\": 1909804.9109989086,\n        \"min\": 0.44,\n        \"max\": 17098242.0,\n        \"num_unique_values\": 249,\n        \"samples\": [\n          301336.0,\n          9706961.0,\n          103000.0\n        ],\n        \"semantic_type\": \"\",\n        \"description\": \"\"\n      }\n    },\n    {\n      \"column\": \"regiao\",\n      \"properties\": {\n        \"dtype\": \"category\",\n        \"num_unique_values\": 6,\n        \"samples\": [\n          \"Africa\",\n          \"Asia\",\n          \"Antarctic\"\n        ],\n        \"semantic_type\": \"\",\n        \"description\": \"\"\n      }\n    },\n    {\n      \"column\": \"subregiao\",\n      \"properties\": {\n        \"dtype\": \"category\",\n        \"num_unique_values\": 25,\n        \"samples\": [\n          \"Caribbean\",\n          \"Eastern Europe\",\n          \"Western Africa\"\n        ],\n        \"semantic_type\": \"\",\n        \"description\": \"\"\n      }\n    },\n    {\n      \"column\": \"capital\",\n      \"properties\": {\n        \"dtype\": \"string\",\n        \"num_unique_values\": 245,\n        \"samples\": [\n          \"Djibouti\",\n          \"Beijing\",\n          \"Podgorica\"\n        ],\n        \"semantic_type\": \"\",\n        \"description\": \"\"\n      }\n    },\n    {\n      \"column\": \"moeda\",\n      \"properties\": {\n        \"dtype\": \"string\",\n        \"num_unique_values\": 154,\n        \"samples\": [\n          \"TRY\",\n          \"CZK\",\n          \"UAH\"\n        ],\n        \"semantic_type\": \"\",\n        \"description\": \"\"\n      }\n    },\n    {\n      \"column\": \"idiomas\",\n      \"properties\": {\n        \"dtype\": \"string\",\n        \"num_unique_values\": 141,\n        \"samples\": [\n          \"Danish\",\n          \"English, Maltese\",\n          \"Lao\"\n        ],\n        \"semantic_type\": \"\",\n        \"description\": \"\"\n      }\n    }\n  ]\n}"
            }
          },
          "metadata": {},
          "execution_count": 5
        }
      ]
    },
    {
      "cell_type": "markdown",
      "source": [
        "Fazendo análises e visualizações  \n",
        "\n",
        "Top 10 países mais populosos"
      ],
      "metadata": {
        "id": "ieOHCGGGNim0"
      }
    },
    {
      "cell_type": "code",
      "source": [
        "top_pop = df.nlargest(10, 'populacao')\n",
        "plt.figure(figsize=(12,6))\n",
        "plt.bar(top_pop['nome'], top_pop['populacao'])\n",
        "plt.title('Top 10 Países mais Populosos')\n",
        "plt.ylabel('População')\n",
        "plt.xticks(rotation=45)\n",
        "plt.show()\n"
      ],
      "metadata": {
        "colab": {
          "base_uri": "https://localhost:8080/",
          "height": 607
        },
        "id": "zxXgXjTVNmNd",
        "outputId": "0510f0a8-de99-4042-eeca-bd5cf619a598"
      },
      "execution_count": null,
      "outputs": [
        {
          "output_type": "display_data",
          "data": {
            "text/plain": [
              "<Figure size 1200x600 with 1 Axes>"
            ],
            "image/png": "[encoded data removed]"
          },
          "metadata": {}
        }
      ]
    },
    {
      "cell_type": "markdown",
      "source": [
        "Distribuição de países por região"
      ],
      "metadata": {
        "id": "yQNT4Rn5N6X9"
      }
    },
    {
      "cell_type": "code",
      "source": [
        "plt.figure(figsize=(8,5))\n",
        "df['regiao'].value_counts().plot(kind='pie', autopct='%1.1f%%')\n",
        "plt.title('Distribuição de Países por Região')\n",
        "plt.ylabel('')\n",
        "plt.show()\n"
      ],
      "metadata": {
        "colab": {
          "base_uri": "https://localhost:8080/",
          "height": 444
        },
        "id": "XczQXy-fN8Y0",
        "outputId": "091283da-6cfb-4f9f-b089-e7d1ee88e6d4"
      },
      "execution_count": null,
      "outputs": [
        {
          "output_type": "display_data",
          "data": {
            "text/plain": [
              "<Figure size 800x500 with 1 Axes>"
            ],
            "image/png": "[encoded data removed]"
          },
          "metadata": {}
        }
      ]
    }
  ]
}